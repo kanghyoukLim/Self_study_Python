{
 "cells": [
  {
   "cell_type": "markdown",
   "id": "d6f30566-1f7c-49f5-80e0-a100fc7f34e1",
   "metadata": {},
   "source": [
    "#20230416\n",
    "\n",
    "format 함수를 사용한 포매팅"
   ]
  },
  {
   "cell_type": "code",
   "execution_count": 2,
   "id": "c9833292-2d46-4416-ace3-c5ff0d0700b8",
   "metadata": {},
   "outputs": [
    {
     "data": {
      "text/plain": [
       "'i eat 3 apples.'"
      ]
     },
     "execution_count": 2,
     "metadata": {},
     "output_type": "execute_result"
    }
   ],
   "source": [
    "\"i eat {0} apples.\".format(3)"
   ]
  },
  {
   "cell_type": "code",
   "execution_count": 3,
   "id": "ea411ba6-f48b-4903-99b0-3a96bc12945c",
   "metadata": {},
   "outputs": [
    {
     "data": {
      "text/plain": [
       "'I eat 3 apples.'"
      ]
     },
     "execution_count": 3,
     "metadata": {},
     "output_type": "execute_result"
    }
   ],
   "source": [
    "number = 3\n",
    "\"I eat {0} apples.\".format(number)"
   ]
  },
  {
   "cell_type": "markdown",
   "id": "95cc1e07-7813-4d2b-8d7f-fe7d66612756",
   "metadata": {},
   "source": [
    "2개 이상의 값"
   ]
  },
  {
   "cell_type": "code",
   "execution_count": 5,
   "id": "bc21f900-e16b-4452-b42d-a0126d7a40dd",
   "metadata": {},
   "outputs": [
    {
     "data": {
      "text/plain": [
       "'I eat 10 apples. so I was sick for three days.'"
      ]
     },
     "execution_count": 5,
     "metadata": {},
     "output_type": "execute_result"
    }
   ],
   "source": [
    "number = 10\n",
    "day = 'three'\n",
    "\"I eat {0} apples. so I was sick for {1} days.\".format(number, day)"
   ]
  },
  {
   "cell_type": "code",
   "execution_count": 6,
   "id": "ac07a1a4-a476-4cb9-8117-bbe3303ffab2",
   "metadata": {},
   "outputs": [
    {
     "data": {
      "text/plain": [
       "'I eat 7 apples. so I was sick for 2 days.'"
      ]
     },
     "execution_count": 6,
     "metadata": {},
     "output_type": "execute_result"
    }
   ],
   "source": [
    "\"I eat {number} apples. so I was sick for {day} days.\".format(number=7, day=2)"
   ]
  },
  {
   "cell_type": "code",
   "execution_count": 7,
   "id": "21f8d5d6-bc23-4dbb-8307-aedc6d40528f",
   "metadata": {},
   "outputs": [
    {
     "data": {
      "text/plain": [
       "'I eat 5 apples. so I was sick for 3 days.'"
      ]
     },
     "execution_count": 7,
     "metadata": {},
     "output_type": "execute_result"
    }
   ],
   "source": [
    "\"I eat {0} apples. so I was sick for {day} days.\".format(5, day=3)"
   ]
  },
  {
   "cell_type": "markdown",
   "id": "9668b62f-6dd8-48eb-8f4e-86f3747cb6ea",
   "metadata": {},
   "source": [
    "## 문자열 포매팅"
   ]
  },
  {
   "cell_type": "code",
   "execution_count": 9,
   "id": "ba17985b-8510-4d81-9e52-573651f4e335",
   "metadata": {},
   "outputs": [
    {
     "data": {
      "text/plain": [
       "'나의 이름은 홍길동, 나이는 30입니다.'"
      ]
     },
     "execution_count": 9,
     "metadata": {},
     "output_type": "execute_result"
    }
   ],
   "source": [
    "name = '홍길동'\n",
    "age = 30\n",
    "f'나의 이름은 {name}, 나이는 {age}입니다.'"
   ]
  },
  {
   "cell_type": "code",
   "execution_count": 11,
   "id": "43e9aca9-c107-466f-b5a0-41eb588e605c",
   "metadata": {},
   "outputs": [
    {
     "data": {
      "text/plain": [
       "'나는 내녀이면 31이 된다.'"
      ]
     },
     "execution_count": 11,
     "metadata": {},
     "output_type": "execute_result"
    }
   ],
   "source": [
    "age = 30\n",
    "f'나는 내녀이면 {age+1}이 된다.'"
   ]
  },
  {
   "cell_type": "markdown",
   "id": "02a7913d-1302-4642-aabb-121d2075a696",
   "metadata": {},
   "source": [
    "딕셔너리는 f문자열 포매팅에서 다음과 같이 사용할 수 있다. "
   ]
  },
  {
   "cell_type": "code",
   "execution_count": 13,
   "id": "d781b8f7-d51f-44ff-9a9a-b486d3716ae6",
   "metadata": {},
   "outputs": [
    {
     "data": {
      "text/plain": [
       "'나의 이름은 홍길동입니다. 나이는 30 입니다.'"
      ]
     },
     "execution_count": 13,
     "metadata": {},
     "output_type": "execute_result"
    }
   ],
   "source": [
    "d = {'name':'홍길동', 'age':30}\n",
    "f'나의 이름은 {d[\"name\"]}입니다. 나이는 {d[\"age\"]} 입니다.'"
   ]
  },
  {
   "cell_type": "markdown",
   "id": "9d9d411d-041c-4c49-9280-c0406db7bd94",
   "metadata": {},
   "source": [
    "문제. format함수 또는 f문자열 포매팅을 사용해 '!!!python!!!' 문자열을 출력해보자."
   ]
  },
  {
   "cell_type": "code",
   "execution_count": 14,
   "id": "8be0a984-81fc-4528-9e67-d7e959184f11",
   "metadata": {},
   "outputs": [
    {
     "data": {
      "text/plain": [
       "'!!!python!!!'"
      ]
     },
     "execution_count": 14,
     "metadata": {},
     "output_type": "execute_result"
    }
   ],
   "source": [
    "f'!!!python!!!'"
   ]
  },
  {
   "cell_type": "code",
   "execution_count": 16,
   "id": "b49ac1ae-cb1e-4575-81d2-61573cb7c505",
   "metadata": {},
   "outputs": [
    {
     "data": {
      "text/plain": [
       "'!!!pyhon!!!!'"
      ]
     },
     "execution_count": 16,
     "metadata": {},
     "output_type": "execute_result"
    }
   ],
   "source": [
    "f'{\"pyhon\":!^12}'"
   ]
  },
  {
   "cell_type": "markdown",
   "id": "43d91f2b-fcbc-4a3e-af10-8b07cc0655ab",
   "metadata": {},
   "source": [
    "## 문자열 관련함수 : 문자열 내장함수"
   ]
  },
  {
   "cell_type": "markdown",
   "id": "c058018b-3ba2-4937-bf79-c651a1bc4238",
   "metadata": {},
   "source": [
    "count  \n",
    "find  \n",
    "index  \n",
    "join  \n",
    "upper  \n",
    "lower  \n",
    "lstrip  \n",
    "rstrip  \n",
    "strip  \n",
    "replace  \n",
    "split"
   ]
  },
  {
   "cell_type": "code",
   "execution_count": null,
   "id": "ce17fec5-dfa7-4846-8ab0-e2c6f014150d",
   "metadata": {},
   "outputs": [],
   "source": []
  }
 ],
 "metadata": {
  "kernelspec": {
   "display_name": "Python 3 (ipykernel)",
   "language": "python",
   "name": "python3"
  },
  "language_info": {
   "codemirror_mode": {
    "name": "ipython",
    "version": 3
   },
   "file_extension": ".py",
   "mimetype": "text/x-python",
   "name": "python",
   "nbconvert_exporter": "python",
   "pygments_lexer": "ipython3",
   "version": "3.9.12"
  }
 },
 "nbformat": 4,
 "nbformat_minor": 5
}

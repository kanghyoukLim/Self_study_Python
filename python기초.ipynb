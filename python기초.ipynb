{
 "cells": [
  {
   "cell_type": "markdown",
   "id": "d6f30566-1f7c-49f5-80e0-a100fc7f34e1",
   "metadata": {},
   "source": [
    "#20230416\n",
    "\n",
    "format 함수를 사용한 포매팅"
   ]
  },
  {
   "cell_type": "code",
   "execution_count": 2,
   "id": "c9833292-2d46-4416-ace3-c5ff0d0700b8",
   "metadata": {},
   "outputs": [
    {
     "data": {
      "text/plain": [
       "'i eat 3 apples.'"
      ]
     },
     "execution_count": 2,
     "metadata": {},
     "output_type": "execute_result"
    }
   ],
   "source": [
    "\"i eat {0} apples.\".format(3)"
   ]
  },
  {
   "cell_type": "code",
   "execution_count": 3,
   "id": "ea411ba6-f48b-4903-99b0-3a96bc12945c",
   "metadata": {},
   "outputs": [
    {
     "data": {
      "text/plain": [
       "'I eat 3 apples.'"
      ]
     },
     "execution_count": 3,
     "metadata": {},
     "output_type": "execute_result"
    }
   ],
   "source": [
    "number = 3\n",
    "\"I eat {0} apples.\".format(number)"
   ]
  },
  {
   "cell_type": "markdown",
   "id": "95cc1e07-7813-4d2b-8d7f-fe7d66612756",
   "metadata": {},
   "source": [
    "2개 이상의 값"
   ]
  },
  {
   "cell_type": "code",
   "execution_count": 5,
   "id": "bc21f900-e16b-4452-b42d-a0126d7a40dd",
   "metadata": {},
   "outputs": [
    {
     "data": {
      "text/plain": [
       "'I eat 10 apples. so I was sick for three days.'"
      ]
     },
     "execution_count": 5,
     "metadata": {},
     "output_type": "execute_result"
    }
   ],
   "source": [
    "number = 10\n",
    "day = 'three'\n",
    "\"I eat {0} apples. so I was sick for {1} days.\".format(number, day)"
   ]
  },
  {
   "cell_type": "code",
   "execution_count": 6,
   "id": "ac07a1a4-a476-4cb9-8117-bbe3303ffab2",
   "metadata": {},
   "outputs": [
    {
     "data": {
      "text/plain": [
       "'I eat 7 apples. so I was sick for 2 days.'"
      ]
     },
     "execution_count": 6,
     "metadata": {},
     "output_type": "execute_result"
    }
   ],
   "source": [
    "\"I eat {number} apples. so I was sick for {day} days.\".format(number=7, day=2)"
   ]
  },
  {
   "cell_type": "code",
   "execution_count": 7,
   "id": "21f8d5d6-bc23-4dbb-8307-aedc6d40528f",
   "metadata": {},
   "outputs": [
    {
     "data": {
      "text/plain": [
       "'I eat 5 apples. so I was sick for 3 days.'"
      ]
     },
     "execution_count": 7,
     "metadata": {},
     "output_type": "execute_result"
    }
   ],
   "source": [
    "\"I eat {0} apples. so I was sick for {day} days.\".format(5, day=3)"
   ]
  },
  {
   "cell_type": "markdown",
   "id": "9668b62f-6dd8-48eb-8f4e-86f3747cb6ea",
   "metadata": {},
   "source": [
    "## 문자열 포매팅"
   ]
  },
  {
   "cell_type": "code",
   "execution_count": 9,
   "id": "ba17985b-8510-4d81-9e52-573651f4e335",
   "metadata": {},
   "outputs": [
    {
     "data": {
      "text/plain": [
       "'나의 이름은 홍길동, 나이는 30입니다.'"
      ]
     },
     "execution_count": 9,
     "metadata": {},
     "output_type": "execute_result"
    }
   ],
   "source": [
    "name = '홍길동'\n",
    "age = 30\n",
    "f'나의 이름은 {name}, 나이는 {age}입니다.'"
   ]
  },
  {
   "cell_type": "code",
   "execution_count": 11,
   "id": "43e9aca9-c107-466f-b5a0-41eb588e605c",
   "metadata": {},
   "outputs": [
    {
     "data": {
      "text/plain": [
       "'나는 내녀이면 31이 된다.'"
      ]
     },
     "execution_count": 11,
     "metadata": {},
     "output_type": "execute_result"
    }
   ],
   "source": [
    "age = 30\n",
    "f'나는 내녀이면 {age+1}이 된다.'"
   ]
  },
  {
   "cell_type": "markdown",
   "id": "02a7913d-1302-4642-aabb-121d2075a696",
   "metadata": {},
   "source": [
    "딕셔너리는 f문자열 포매팅에서 다음과 같이 사용할 수 있다. "
   ]
  },
  {
   "cell_type": "code",
   "execution_count": 13,
   "id": "d781b8f7-d51f-44ff-9a9a-b486d3716ae6",
   "metadata": {},
   "outputs": [
    {
     "data": {
      "text/plain": [
       "'나의 이름은 홍길동입니다. 나이는 30 입니다.'"
      ]
     },
     "execution_count": 13,
     "metadata": {},
     "output_type": "execute_result"
    }
   ],
   "source": [
    "d = {'name':'홍길동', 'age':30}\n",
    "f'나의 이름은 {d[\"name\"]}입니다. 나이는 {d[\"age\"]} 입니다.'"
   ]
  },
  {
   "cell_type": "markdown",
   "id": "9d9d411d-041c-4c49-9280-c0406db7bd94",
   "metadata": {},
   "source": [
    "문제. format함수 또는 f문자열 포매팅을 사용해 '!!!python!!!' 문자열을 출력해보자."
   ]
  },
  {
   "cell_type": "code",
   "execution_count": 14,
   "id": "8be0a984-81fc-4528-9e67-d7e959184f11",
   "metadata": {},
   "outputs": [
    {
     "data": {
      "text/plain": [
       "'!!!python!!!'"
      ]
     },
     "execution_count": 14,
     "metadata": {},
     "output_type": "execute_result"
    }
   ],
   "source": [
    "f'!!!python!!!'"
   ]
  },
  {
   "cell_type": "code",
   "execution_count": 16,
   "id": "b49ac1ae-cb1e-4575-81d2-61573cb7c505",
   "metadata": {},
   "outputs": [
    {
     "data": {
      "text/plain": [
       "'!!!pyhon!!!!'"
      ]
     },
     "execution_count": 16,
     "metadata": {},
     "output_type": "execute_result"
    }
   ],
   "source": [
    "f'{\"pyhon\":!^12}'"
   ]
  },
  {
   "cell_type": "markdown",
   "id": "43d91f2b-fcbc-4a3e-af10-8b07cc0655ab",
   "metadata": {},
   "source": [
    "## 문자열 관련함수 : 문자열 내장함수"
   ]
  },
  {
   "cell_type": "markdown",
   "id": "c058018b-3ba2-4937-bf79-c651a1bc4238",
   "metadata": {},
   "source": [
    "count  \n",
    "find  \n",
    "index  \n",
    "join  \n",
    "upper  \n",
    "lower  \n",
    "lstrip  \n",
    "rstrip  \n",
    "strip  \n",
    "replace  \n",
    "split"
   ]
  },
  {
   "cell_type": "markdown",
   "id": "9ae3953b-4d32-43fd-adce-70f15ddcad61",
   "metadata": {},
   "source": [
    "### 함수 중 lambda"
   ]
  },
  {
   "cell_type": "markdown",
   "id": "09ba64b0-79fc-41e0-8fd2-abb8c499f8fb",
   "metadata": {},
   "source": [
    "lambda는 def와 동일한 역학  \n",
    "보통 함수를 한 줄로 간결하게 만들 때 사용\n",
    "\n",
    "사용방법 \n",
    "\n",
    "  lambda 매개변수1, 매개변수2, ... : 매개변수를 사용한 표현식"
   ]
  },
  {
   "cell_type": "code",
   "execution_count": 21,
   "id": "543f2bf4-e227-47bb-afd9-0d5e91888978",
   "metadata": {},
   "outputs": [
    {
     "name": "stdout",
     "output_type": "stream",
     "text": [
      "7\n"
     ]
    }
   ],
   "source": [
    "add = lambda a, b : a + b\n",
    "result = add(3,4)\n",
    "print(result)"
   ]
  },
  {
   "cell_type": "markdown",
   "id": "50436fcf-2f77-4a95-92ae-ee9b8f250082",
   "metadata": {},
   "source": [
    "두개의 인수를 받아서 더한 값을 돌려주는 lambda함수\n",
    "아래 def와 비교해보자"
   ]
  },
  {
   "cell_type": "code",
   "execution_count": 23,
   "id": "b3332cfc-d766-43bf-8483-cefd95e1899c",
   "metadata": {},
   "outputs": [
    {
     "name": "stdout",
     "output_type": "stream",
     "text": [
      "7\n"
     ]
    }
   ],
   "source": [
    "def add(a,b):\n",
    "    result = a + b\n",
    "    print(result)\n",
    "    \n",
    "add(3,4)"
   ]
  },
  {
   "cell_type": "markdown",
   "id": "f4f8747a-4b21-40ed-9c5c-8ec0c8dbad09",
   "metadata": {},
   "source": [
    "## Class"
   ]
  },
  {
   "cell_type": "markdown",
   "id": "6e36fcf7-eff9-41b0-94fb-ac59662b7e3a",
   "metadata": {},
   "source": [
    "### Class 기초"
   ]
  },
  {
   "cell_type": "code",
   "execution_count": 49,
   "id": "dee55c54-ec76-4ac4-8073-9d7d4014ef83",
   "metadata": {},
   "outputs": [],
   "source": [
    "class FourCal():\n",
    "    def setdata(self, first, second):\n",
    "        self.first = first\n",
    "        self.second = second\n",
    "        \n",
    "    def add(self):\n",
    "        result = self.first + self.second\n",
    "        return result\n",
    "    "
   ]
  },
  {
   "cell_type": "code",
   "execution_count": 58,
   "id": "b0a8ddc4-2d89-4f7a-a1fc-227642bb627e",
   "metadata": {},
   "outputs": [],
   "source": [
    "class FourCal():\n",
    "    def setdata(self, first, second):\n",
    "        self.first = first\n",
    "        self.second = second\n",
    "        \n",
    "    def mul(self):\n",
    "        result = self.first * self.second\n",
    "        return result\n",
    "    \n",
    "    def sub(self):\n",
    "        result = self.first - self.second\n",
    "        return result\n",
    "\n",
    "    def div(self):\n",
    "        if self.second == 0:\n",
    "            return 0\n",
    "        else:\n",
    "            result = self.first / self.second\n",
    "            return result"
   ]
  },
  {
   "cell_type": "markdown",
   "id": "203e7332-5f2f-4310-b8dc-9af1f35aeafa",
   "metadata": {},
   "source": [
    "Class 안에서 구현된 함수는 매서드라 한다.   \n",
    "클래스를 만들고, 매서드를 추가할 때 같은 셀 내에서 만들어야 제대로 작동한다는 것을 알 수 있다."
   ]
  },
  {
   "cell_type": "code",
   "execution_count": 69,
   "id": "b4f9ee6e-d05c-4d1f-8dc4-c13da687f9b2",
   "metadata": {},
   "outputs": [],
   "source": [
    "a=FourCal()\n",
    "a.setdata(4,5)"
   ]
  },
  {
   "cell_type": "code",
   "execution_count": 70,
   "id": "8153d658-1822-4345-84e2-ecbaeef926fb",
   "metadata": {},
   "outputs": [
    {
     "ename": "AttributeError",
     "evalue": "'FourCal' object has no attribute 'add'",
     "output_type": "error",
     "traceback": [
      "\u001b[1;31m---------------------------------------------------------------------------\u001b[0m",
      "\u001b[1;31mAttributeError\u001b[0m                            Traceback (most recent call last)",
      "Input \u001b[1;32mIn [70]\u001b[0m, in \u001b[0;36m<cell line: 1>\u001b[1;34m()\u001b[0m\n\u001b[1;32m----> 1\u001b[0m \u001b[43ma\u001b[49m\u001b[38;5;241;43m.\u001b[39;49m\u001b[43madd\u001b[49m()\n",
      "\u001b[1;31mAttributeError\u001b[0m: 'FourCal' object has no attribute 'add'"
     ]
    }
   ],
   "source": [
    "a.add()"
   ]
  },
  {
   "cell_type": "code",
   "execution_count": 71,
   "id": "b2acc229-4d3f-4085-9f2f-35825fe6b258",
   "metadata": {},
   "outputs": [
    {
     "data": {
      "text/plain": [
       "-1"
      ]
     },
     "execution_count": 71,
     "metadata": {},
     "output_type": "execute_result"
    }
   ],
   "source": [
    "a.sub()"
   ]
  },
  {
   "cell_type": "code",
   "execution_count": 72,
   "id": "0b73c3a9-8e55-4ccb-8c2d-66e594846d55",
   "metadata": {},
   "outputs": [
    {
     "data": {
      "text/plain": [
       "20"
      ]
     },
     "execution_count": 72,
     "metadata": {},
     "output_type": "execute_result"
    }
   ],
   "source": [
    "a.mul()"
   ]
  },
  {
   "cell_type": "code",
   "execution_count": 73,
   "id": "d1a421c9-68a7-4f7f-94b4-ca0a2bb00d09",
   "metadata": {},
   "outputs": [
    {
     "data": {
      "text/plain": [
       "0.8"
      ]
     },
     "execution_count": 73,
     "metadata": {},
     "output_type": "execute_result"
    }
   ],
   "source": [
    "a.div()"
   ]
  },
  {
   "cell_type": "markdown",
   "id": "3f8ce87c-1552-4b17-9602-ea79e4eec43e",
   "metadata": {},
   "source": [
    "만약 위와 같이 add매소드를 만든 후 새로운 매소드를 추가하려면 Class 상속기능을 이용해야 한다.\n",
    "Class를 덮어 씀으로 인해 현재 FourCal Class에는 add 매소드가 없다.  \n",
    "add 매소드를 추가해 보자. 그리고 클래스의 이름은 그대로 해보겠다. 가능할 거 같다."
   ]
  },
  {
   "cell_type": "code",
   "execution_count": 101,
   "id": "b823f306-caf2-447b-9a53-dc038cf8c759",
   "metadata": {},
   "outputs": [],
   "source": [
    "class FourCal(FourCal):\n",
    "    def add(self):\n",
    "        result = self.first + self.second\n",
    "        return result"
   ]
  },
  {
   "cell_type": "code",
   "execution_count": 102,
   "id": "480f3978-e744-40cf-8860-08a6d8554741",
   "metadata": {},
   "outputs": [],
   "source": [
    "a.setdata(3,6)"
   ]
  },
  {
   "cell_type": "code",
   "execution_count": 103,
   "id": "4647060c-d34b-4343-804a-7ab8b2391c72",
   "metadata": {},
   "outputs": [
    {
     "ename": "AttributeError",
     "evalue": "'FourCal' object has no attribute 'add'",
     "output_type": "error",
     "traceback": [
      "\u001b[1;31m---------------------------------------------------------------------------\u001b[0m",
      "\u001b[1;31mAttributeError\u001b[0m                            Traceback (most recent call last)",
      "Input \u001b[1;32mIn [103]\u001b[0m, in \u001b[0;36m<cell line: 1>\u001b[1;34m()\u001b[0m\n\u001b[1;32m----> 1\u001b[0m \u001b[43ma\u001b[49m\u001b[38;5;241;43m.\u001b[39;49m\u001b[43madd\u001b[49m()\n",
      "\u001b[1;31mAttributeError\u001b[0m: 'FourCal' object has no attribute 'add'"
     ]
    }
   ],
   "source": [
    "a.add()"
   ]
  },
  {
   "cell_type": "code",
   "execution_count": 104,
   "id": "ae0adcf3-dbd5-4bbb-be76-d91e8192063e",
   "metadata": {},
   "outputs": [
    {
     "data": {
      "text/plain": [
       "18"
      ]
     },
     "execution_count": 104,
     "metadata": {},
     "output_type": "execute_result"
    }
   ],
   "source": [
    "a.mul()"
   ]
  },
  {
   "cell_type": "code",
   "execution_count": 105,
   "id": "bed82729-cc2f-48d7-a560-411d7792d1ef",
   "metadata": {},
   "outputs": [],
   "source": [
    "b=FourCal()\n",
    "b.setdata(5,6)"
   ]
  },
  {
   "cell_type": "code",
   "execution_count": 106,
   "id": "fad72e19-84a6-4d4a-b41b-e58df191eda9",
   "metadata": {},
   "outputs": [
    {
     "data": {
      "text/plain": [
       "11"
      ]
     },
     "execution_count": 106,
     "metadata": {},
     "output_type": "execute_result"
    }
   ],
   "source": [
    "b.add()"
   ]
  },
  {
   "cell_type": "code",
   "execution_count": 107,
   "id": "a7041025-a6e9-4f6f-b7b1-29c42e2cac8b",
   "metadata": {},
   "outputs": [
    {
     "data": {
      "text/plain": [
       "-1"
      ]
     },
     "execution_count": 107,
     "metadata": {},
     "output_type": "execute_result"
    }
   ],
   "source": [
    "b.sub()"
   ]
  },
  {
   "cell_type": "code",
   "execution_count": 108,
   "id": "73559195-6efe-4d0c-ae32-b29fbb919370",
   "metadata": {},
   "outputs": [],
   "source": [
    "a=FourCal()"
   ]
  },
  {
   "cell_type": "code",
   "execution_count": 111,
   "id": "cf477c2f-b21f-475f-81b9-b55b5b11c64a",
   "metadata": {},
   "outputs": [
    {
     "ename": "AttributeError",
     "evalue": "'FourCal' object has no attribute 'first'",
     "output_type": "error",
     "traceback": [
      "\u001b[1;31m---------------------------------------------------------------------------\u001b[0m",
      "\u001b[1;31mAttributeError\u001b[0m                            Traceback (most recent call last)",
      "Input \u001b[1;32mIn [111]\u001b[0m, in \u001b[0;36m<cell line: 1>\u001b[1;34m()\u001b[0m\n\u001b[1;32m----> 1\u001b[0m \u001b[43ma\u001b[49m\u001b[38;5;241;43m.\u001b[39;49m\u001b[43mmul\u001b[49m\u001b[43m(\u001b[49m\u001b[43m)\u001b[49m\n",
      "Input \u001b[1;32mIn [58]\u001b[0m, in \u001b[0;36mFourCal.mul\u001b[1;34m(self)\u001b[0m\n\u001b[0;32m      6\u001b[0m \u001b[38;5;28;01mdef\u001b[39;00m \u001b[38;5;21mmul\u001b[39m(\u001b[38;5;28mself\u001b[39m):\n\u001b[1;32m----> 7\u001b[0m     result \u001b[38;5;241m=\u001b[39m \u001b[38;5;28;43mself\u001b[39;49m\u001b[38;5;241;43m.\u001b[39;49m\u001b[43mfirst\u001b[49m \u001b[38;5;241m*\u001b[39m \u001b[38;5;28mself\u001b[39m\u001b[38;5;241m.\u001b[39msecond\n\u001b[0;32m      8\u001b[0m     \u001b[38;5;28;01mreturn\u001b[39;00m result\n",
      "\u001b[1;31mAttributeError\u001b[0m: 'FourCal' object has no attribute 'first'"
     ]
    }
   ],
   "source": [
    "a.mul()"
   ]
  },
  {
   "cell_type": "markdown",
   "id": "5974afe7-1b46-4691-9897-17f0730f99c1",
   "metadata": {},
   "source": [
    "동일한 이름으로 클래스 상속이 가능하다.  \n",
    "다만 클래스 상속한 이후에 객체를 다시 만들어 줘야 한다.  \n",
    "위에 mul에서 결과값이 나온것은... 저 위에 만들어진 객체에 의한 결과이다. add가 없는 객체...\n",
    "b객체를 다시 만들었고 더하기와 빼기가 잘 계산된다. \n",
    "a객체를 다시 만들때는 setdata도 다시 만들어 줘야 한다. "
   ]
  },
  {
   "cell_type": "markdown",
   "id": "ee8c192e-df1a-4d18-86b3-61fce80df714",
   "metadata": {},
   "source": [
    "### Class 현재까지 정리\n",
    "class를 만들고 메소드를 정의할 때 같은 셀 내에서 코드를 작성해야 한다. \n",
    "다른 셀에서 코드를 작성하고 싶다면 상속을 받아서 작성해야 한다. \n",
    "상속받을 때 동일한 이름을 사용할 수 있다. 다만 상속받은 후 매소드를 작성하고 작동시키려면  \n",
    "객체를 새로 만들어 줘야 한다. 물론 객체에 들어갈 변수값도 새로 넣어줘야 하겠지...   \n",
    "따라서 불편하다. 가능하면 원래 클래스에서 매소드를 넣어주는 것이 편할 것 같다. "
   ]
  },
  {
   "cell_type": "code",
   "execution_count": null,
   "id": "09694f30-6380-4bf2-bcbe-ec15a1a9a688",
   "metadata": {},
   "outputs": [],
   "source": []
  }
 ],
 "metadata": {
  "kernelspec": {
   "display_name": "Python 3 (ipykernel)",
   "language": "python",
   "name": "python3"
  },
  "language_info": {
   "codemirror_mode": {
    "name": "ipython",
    "version": 3
   },
   "file_extension": ".py",
   "mimetype": "text/x-python",
   "name": "python",
   "nbconvert_exporter": "python",
   "pygments_lexer": "ipython3",
   "version": "3.9.12"
  }
 },
 "nbformat": 4,
 "nbformat_minor": 5
}
